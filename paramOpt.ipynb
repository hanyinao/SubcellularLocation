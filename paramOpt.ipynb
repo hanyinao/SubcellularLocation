{
 "cells": [
  {
   "cell_type": "markdown",
   "metadata": {},
   "source": [
    "定义需要优化的特征参数"
   ]
  },
  {
   "cell_type": "code",
   "execution_count": null,
   "metadata": {},
   "outputs": [],
   "source": [
    "import features\n",
    "\n",
    "PARAM_SPACE = {\n",
    "    # PseAAC\n",
    "    \"pseaac_lambda\": {\"type\": \"int\", \"low\": 3, \"high\": 5},\n",
    "    \n",
    "    # EBGW\n",
    "    \"ebgw_window_size\": {\"type\": \"int\", \"low\": 5, \"high\": 9},\n",
    "    \n",
    "    # PsePSSM\n",
    "    \"psepssm_lambda\": {\"type\": \"int\", \"low\": 3, \"high\": 5},\n",
    "    \"psepssm_w\": {\"type\": \"float\", \"low\": 0.1, \"high\": 0.9},\n",
    "    \n",
    "    # Node2Vec\n",
    "    \"n2v_dimensions\": {\"type\": \"int\", \"low\": 16, \"high\": 64},\n",
    "    \"n2v_walk_length\": {\"type\": \"int\", \"low\": 20, \"high\": 100},\n",
    "    \"n2v_num_walks\": {\"type\": \"int\", \"low\": 10, \"high\": 50},\n",
    "    \"n2v_window\": {\"type\": \"int\", \"low\": 10, \"high\": 64},\n",
    "    \n",
    "    # 模型参数（以XGBoost为例）\n",
    "    \"xgb_n_estimators\": {\"type\": \"int\", \"low\": 100, \"high\": 500},\n",
    "    \"xgb_max_depth\": {\"type\": \"int\", \"low\": 3, \"high\": 10},\n",
    "    \"xgb_learning_rate\": {\"type\": \"float\", \"low\": 0.01, \"high\": 0.3, \"log\": True}\n",
    "}"
   ]
  },
  {
   "cell_type": "markdown",
   "metadata": {},
   "source": [
    "先进行图的求解"
   ]
  },
  {
   "cell_type": "code",
   "execution_count": null,
   "metadata": {},
   "outputs": [],
   "source": [
    "G = features.calculate_G"
   ]
  },
  {
   "cell_type": "markdown",
   "metadata": {},
   "source": [
    "尝试参数优化"
   ]
  },
  {
   "cell_type": "code",
   "execution_count": null,
   "metadata": {},
   "outputs": [],
   "source": [
    "import pandas as pd\n",
    "import numpy as np\n",
    "from skopt import BayesSearchCV\n",
    "from xgboost import XGBClassifier\n",
    "import features\n",
    "\n",
    "# 假设 df 是你的数据框，labels 是标签数据\n",
    "df = pd.DataFrame()\n",
    "labels = pd.DataFrame()\n",
    "G = features.calculate_G(labels)\n",
    "\n",
    "PARAM_SPACE = {\n",
    "    # PseAAC\n",
    "    \"pseaac_lambda\": (3, 5, 'uniform'),\n",
    "    # EBGW\n",
    "    \"ebgw_window_size\": (5, 9, 'uniform'),\n",
    "    # PsePSSM\n",
    "    \"psepssm_lambda\": (3, 5, 'uniform'),\n",
    "    \"psepssm_w\": (0.1, 0.9, 'uniform'),\n",
    "    # Node2Vec\n",
    "    \"n2v_dimensions\": (16, 64, 'uniform'),\n",
    "    \"n2v_walk_length\": (20, 100, 'uniform'),\n",
    "    \"n2v_num_walks\": (10, 50, 'uniform'),\n",
    "    \"n2v_window\": (10, 64, 'uniform'),\n",
    "    # 模型参数（以XGBoost为例）\n",
    "    \"xgb_n_estimators\": (100, 500, 'uniform'),\n",
    "    \"xgb_max_depth\": (3, 10, 'uniform'),\n",
    "    \"xgb_learning_rate\": (0.01, 0.3, 'log-uniform')\n",
    "}\n",
    "\n",
    "class FeatureGenerator:\n",
    "    def __init__(self, df, labels, G):\n",
    "        self.df = df\n",
    "        self.labels = labels\n",
    "        self.G = G\n",
    "\n",
    "    def __call__(self, params):\n",
    "        return features.generate_all(self.df, self.labels, self.G, params)\n",
    "\n",
    "# 创建特征生成器\n",
    "feature_generator = FeatureGenerator(df, labels, G)\n",
    "\n",
    "# 创建 XGBoost 分类器\n",
    "xgb = XGBClassifier()\n",
    "\n",
    "# 自定义评估函数\n",
    "def custom_eval(params):\n",
    "    X = feature_generator(params)\n",
    "    if X is None:\n",
    "        return float('-inf')\n",
    "    # 这里假设你有一个目标变量 y\n",
    "    y = np.random.randint(0, 2, X.shape[0])\n",
    "    xgb.set_params(**{k.replace('xgb_', ''): v for k, v in params.items() if k.startswith('xgb_')})\n",
    "    xgb.fit(X, y)\n",
    "    score = xgb.score(X, y)\n",
    "    return score\n",
    "\n",
    "# 使用 BayesSearchCV 进行参数优化\n",
    "search = BayesSearchCV(\n",
    "    lambda params: custom_eval(params),\n",
    "    PARAM_SPACE,\n",
    "    n_iter=10,  # 迭代次数\n",
    "    cv=3,\n",
    "    random_state=42\n",
    ")\n",
    "\n",
    "search.fit([{}])  # 传入一个空字典作为占位符\n",
    "\n",
    "# 输出最优参数\n",
    "print(\"Best parameters:\", search.best_params_)"
   ]
  }
 ],
 "metadata": {
  "kernelspec": {
   "display_name": "python310",
   "language": "python",
   "name": "python3"
  },
  "language_info": {
   "name": "python",
   "version": "3.10.16"
  }
 },
 "nbformat": 4,
 "nbformat_minor": 2
}
